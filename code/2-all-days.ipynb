{
 "cells": [
  {
   "attachments": {},
   "cell_type": "markdown",
   "metadata": {},
   "source": [
    "# MESSI Cluster Analysis\n",
    "\n",
    "This notebook automates the process of computing `kmeans` for single days & \n",
    "default features (diff, mean, std), and visualizing the clusters on a Berlin map."
   ]
  },
  {
   "cell_type": "code",
   "execution_count": 3,
   "metadata": {},
   "outputs": [],
   "source": [
    "import pandas as pd\n",
    "from sklearn.cluster import KMeans\n",
    "import matplotlib.pyplot as plt\n",
    "import seaborn as sns\n",
    "import cartopy.crs as ccrs\n",
    "import cartopy.io.img_tiles as cimgt\n",
    "from IPython.display import display\n",
    "sns.set_theme()"
   ]
  },
  {
   "cell_type": "code",
   "execution_count": 4,
   "metadata": {},
   "outputs": [],
   "source": [
    "tmp_ftrs = pd.read_csv(\"../data/tmp_ftrs.csv\")\n",
    "messi_loc = pd.read_csv(\"../data/messi_location_clean.csv\")"
   ]
  },
  {
   "cell_type": "code",
   "execution_count": 14,
   "metadata": {},
   "outputs": [],
   "source": [
    "def kmeans_for_single_day(day, n_clusters=4, ftrs=[\"diff\", \"mean\", \"std\"]):\n",
    "    \"\"\"\n",
    "    Computes kmean for single day and plots clusters on berlin map.\n",
    "    \"\"\"\n",
    "    # kmeans cannot handle missing values, rows containing missing values are\n",
    "    # going to be removed\n",
    "    oneday = tmp_ftrs[tmp_ftrs.day == day].dropna()\n",
    "    oneday_ftrs = oneday[ftrs].values # convert to numpy array\n",
    "\n",
    "    # compute kmean\n",
    "    kmeans = KMeans(\n",
    "        n_clusters=n_clusters,\n",
    "        init=\"k-means++\",\n",
    "        n_init=10, \n",
    "        random_state=42\n",
    "    ).fit(oneday_ftrs)\n",
    "\n",
    "    print(\n",
    "        \"kmeans for day #\"+str(day),\n",
    "        \"\\n\\t> SSE =\",kmeans.inertia_,\n",
    "        \"\\n\\t> # of iters =\",kmeans.n_iter_,\n",
    "    )\n",
    "\n",
    "    # the order of messis does not change, hence, adding labels to dataframe is\n",
    "    # as simple as:\n",
    "    oneday[\"label\"] = kmeans.labels_\n",
    "    # add messi location data -> new data frame for plotting section\n",
    "    data = oneday.merge(right=messi_loc[[\"id\", \"lon\", \"lat\"]], \n",
    "                        how=\"left\", on=\"id\")\n",
    "\n",
    "    # plotting...\n",
    "    trans = ccrs.PlateCarree() # do not change!\n",
    "    bg = cimgt.OSM() # background map\n",
    "\n",
    "    fig, ax = plt.subplots(subplot_kw={\"projection\": bg.crs})\n",
    "    ax.set_extent([13.0, 13.7, 52.65, 52.37], crs=trans)\n",
    "    sns.scatterplot(data=data, x=\"lon\", y=\"lat\", hue=\"label\", style=\"label\",\n",
    "                    palette=\"viridis\", s=50, linewidth=0.5, ec=\"k\", alpha=0.9,\n",
    "                    transform=trans, ax=ax) #legend=False\n",
    "    ax.add_image(bg, 12, alpha=0.9)\n",
    "    ax.set_title(f\"day = {day}\")\n",
    "    fig.savefig(f\"../figs/clusters/loc-cluster-{day}.png\", dpi=300, \n",
    "                bbox_inches=\"tight\")\n",
    "    plt.close() # to prevent memory overflow\n",
    "\n",
    "    # save sum of squared distances\n",
    "    return kmeans.inertia_"
   ]
  },
  {
   "cell_type": "code",
   "execution_count": 15,
   "metadata": {},
   "outputs": [
    {
     "name": "stdout",
     "output_type": "stream",
     "text": [
      "kmeans for day #1 \n",
      "\t> SSE = 14.166830409545298 \n",
      "\t> # of iters = 3\n",
      "kmeans for day #2 \n",
      "\t> SSE = 24.088510195722105 \n",
      "\t> # of iters = 3\n",
      "kmeans for day #3 \n",
      "\t> SSE = 35.273333095649605 \n",
      "\t> # of iters = 2\n",
      "kmeans for day #4 \n",
      "\t> SSE = 120.4734868607323 \n",
      "\t> # of iters = 4\n",
      "kmeans for day #5 \n",
      "\t> SSE = 27.768500550248085 \n",
      "\t> # of iters = 2\n",
      "kmeans for day #6 \n",
      "\t> SSE = 17.15620576925826 \n",
      "\t> # of iters = 3\n",
      "kmeans for day #7 \n",
      "\t> SSE = 21.50807781109428 \n",
      "\t> # of iters = 5\n",
      "kmeans for day #8 \n",
      "\t> SSE = 42.775254353449895 \n",
      "\t> # of iters = 3\n",
      "kmeans for day #9 \n",
      "\t> SSE = 15.56297038671816 \n",
      "\t> # of iters = 2\n",
      "kmeans for day #10 \n",
      "\t> SSE = 33.99982905790985 \n",
      "\t> # of iters = 4\n",
      "kmeans for day #11 \n",
      "\t> SSE = 18.642451740796997 \n",
      "\t> # of iters = 2\n",
      "kmeans for day #12 \n",
      "\t> SSE = 23.845453020727795 \n",
      "\t> # of iters = 8\n",
      "kmeans for day #13 \n",
      "\t> SSE = 36.274284559333395 \n",
      "\t> # of iters = 4\n",
      "kmeans for day #14 \n",
      "\t> SSE = 24.19973253716781 \n",
      "\t> # of iters = 2\n",
      "kmeans for day #15 \n",
      "\t> SSE = 30.372985737128147 \n",
      "\t> # of iters = 2\n",
      "kmeans for day #16 \n",
      "\t> SSE = 52.2942609305335 \n",
      "\t> # of iters = 4\n",
      "kmeans for day #17 \n",
      "\t> SSE = 25.696716082370266 \n",
      "\t> # of iters = 4\n",
      "kmeans for day #18 \n",
      "\t> SSE = 25.332170844438178 \n",
      "\t> # of iters = 2\n",
      "kmeans for day #19 \n",
      "\t> SSE = 19.93906765936723 \n",
      "\t> # of iters = 7\n",
      "kmeans for day #20 \n",
      "\t> SSE = 6.98894948501245 \n",
      "\t> # of iters = 3\n",
      "kmeans for day #21 \n",
      "\t> SSE = 25.808133433766265 \n",
      "\t> # of iters = 3\n",
      "kmeans for day #22 \n",
      "\t> SSE = 30.37959399892553 \n",
      "\t> # of iters = 2\n",
      "kmeans for day #23 \n",
      "\t> SSE = 17.836827807836514 \n",
      "\t> # of iters = 5\n",
      "kmeans for day #24 \n",
      "\t> SSE = 38.74762419413864 \n",
      "\t> # of iters = 2\n",
      "kmeans for day #25 \n",
      "\t> SSE = 14.377062558707411 \n",
      "\t> # of iters = 3\n",
      "kmeans for day #26 \n",
      "\t> SSE = 20.37562335428159 \n",
      "\t> # of iters = 2\n",
      "kmeans for day #27 \n",
      "\t> SSE = 19.548072945187112 \n",
      "\t> # of iters = 2\n",
      "kmeans for day #28 \n",
      "\t> SSE = 9.430325176654378 \n",
      "\t> # of iters = 6\n",
      "kmeans for day #29 \n",
      "\t> SSE = 10.700763211864908 \n",
      "\t> # of iters = 4\n",
      "kmeans for day #30 \n",
      "\t> SSE = 25.797444984962716 \n",
      "\t> # of iters = 4\n",
      "kmeans for day #31 \n",
      "\t> SSE = 18.24695862180286 \n",
      "\t> # of iters = 2\n"
     ]
    }
   ],
   "source": [
    "days = tmp_ftrs[\"day\"].unique()\n",
    "sse = {}\n",
    "\n",
    "for day in days:\n",
    "    sse[day] = kmeans_for_single_day(day)"
   ]
  },
  {
   "attachments": {},
   "cell_type": "markdown",
   "metadata": {},
   "source": [
    "Visualizing the inertia (sum of squared distances) of the kmeans-clustering."
   ]
  },
  {
   "cell_type": "code",
   "execution_count": 16,
   "metadata": {},
   "outputs": [
    {
     "data": {
      "image/png": "[encoded data removed]",
      "text/plain": [
       "<Figure size 640x480 with 1 Axes>"
      ]
     },
     "metadata": {},
     "output_type": "display_data"
    }
   ],
   "source": [
    "fig, ax = plt.subplots()\n",
    "sns.lineplot(x=list(sse.keys()), y=list(sse.values()), marker=\"o\")\n",
    "ax.set_title(\"kmeans, k=4\")\n",
    "ax.set_xlabel(\"day\")\n",
    "ax.set_ylabel(\"SSE\");"
   ]
  },
  {
   "attachments": {},
   "cell_type": "markdown",
   "metadata": {},
   "source": [
    "Creating gif out of maps for single day."
   ]
  },
  {
   "cell_type": "code",
   "execution_count": 19,
   "metadata": {},
   "outputs": [],
   "source": [
    "# following approach found here:\n",
    "# https://towardsdatascience.com/how-to-create-a-gif-from-matplotlib-plots-in-python-6bec6c0c952c#1cac\n",
    "import imageio\n",
    "\n",
    "# save single frames into array\n",
    "frames = []\n",
    "for day in days:\n",
    "    image = imageio.v2.imread(f\"../figs/clusters/loc-cluster-{day}.png\")\n",
    "    frames.append(image)\n",
    "\n",
    "# combine frames to gif\n",
    "imageio.mimsave(\"../figs/clusters/loc-cluster.gif\", frames, duration=1.5)"
   ]
  }
 ],
 "metadata": {
  "kernelspec": {
   "display_name": "meteo",
   "language": "python",
   "name": "python3"
  },
  "language_info": {
   "codemirror_mode": {
    "name": "ipython",
    "version": 3
   },
   "file_extension": ".py",
   "mimetype": "text/x-python",
   "name": "python",
   "nbconvert_exporter": "python",
   "pygments_lexer": "ipython3",
   "version": "3.10.8 | packaged by conda-forge | (main, Nov 22 2022, 08:26:04) [GCC 10.4.0]"
  },
  "orig_nbformat": 4,
  "vscode": {
   "interpreter": {
    "hash": "6fd58d559402bb353f8729c60f77fe33e51e85cd12bf02c5b337557cbb34c979"
   }
  }
 },
 "nbformat": 4,
 "nbformat_minor": 2
}
